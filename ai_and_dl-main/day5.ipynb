{
 "cells": [
  {
   "cell_type": "code",
   "execution_count": 1,
   "metadata": {},
   "outputs": [
    {
     "name": "stdout",
     "output_type": "stream",
     "text": [
      "4\n"
     ]
    }
   ],
   "source": [
    "print(4)"
   ]
  },
  {
   "cell_type": "code",
   "execution_count": 3,
   "metadata": {},
   "outputs": [
    {
     "name": "stdout",
     "output_type": "stream",
     "text": [
      "pandit\n"
     ]
    }
   ],
   "source": [
    "def loda():\n",
    "    print(\"pandit\")\n",
    "\n",
    "\n",
    "loda()    "
   ]
  },
  {
   "cell_type": "code",
   "execution_count": 4,
   "metadata": {},
   "outputs": [
    {
     "data": {
      "text/plain": [
       "(6, 7)"
      ]
     },
     "execution_count": 4,
     "metadata": {},
     "output_type": "execute_result"
    }
   ],
   "source": [
    "def hii(x,y):\n",
    "    return x*2  ,x+y\n",
    "\n",
    "\n",
    "hii(3,4)"
   ]
  },
  {
   "cell_type": "code",
   "execution_count": 7,
   "metadata": {},
   "outputs": [],
   "source": [
    "a,b = hii(1,2)"
   ]
  },
  {
   "cell_type": "code",
   "execution_count": 8,
   "metadata": {},
   "outputs": [
    {
     "name": "stdout",
     "output_type": "stream",
     "text": [
      "2\n",
      "3\n"
     ]
    }
   ],
   "source": [
    "print(a)\n",
    "print(b)"
   ]
  },
  {
   "cell_type": "code",
   "execution_count": 9,
   "metadata": {},
   "outputs": [
    {
     "name": "stdout",
     "output_type": "stream",
     "text": [
      "10\n",
      "10\n"
     ]
    }
   ],
   "source": [
    "c=5\n",
    "d=5\n",
    "a,b = hii(c,d)\n",
    "print(a)\n",
    "print(b)"
   ]
  },
  {
   "cell_type": "code",
   "execution_count": 10,
   "metadata": {},
   "outputs": [
    {
     "data": {
      "text/plain": [
       "(4, 6)"
      ]
     },
     "execution_count": 10,
     "metadata": {},
     "output_type": "execute_result"
    }
   ],
   "source": [
    "def hii(x=2,y=4):\n",
    "    return x*2  ,x+y\n",
    "\n",
    "\n",
    "hii()"
   ]
  },
  {
   "cell_type": "code",
   "execution_count": 12,
   "metadata": {},
   "outputs": [
    {
     "data": {
      "text/plain": [
       "(8, 9)"
      ]
     },
     "execution_count": 12,
     "metadata": {},
     "output_type": "execute_result"
    }
   ],
   "source": [
    "def hii(x,y=5):\n",
    "    return x*2  ,x+y\n",
    "\n",
    "\n",
    "hii(4)"
   ]
  },
  {
   "cell_type": "code",
   "execution_count": 15,
   "metadata": {},
   "outputs": [],
   "source": [
    "def hello(x =6, y =4,*p ,**q):\n",
    "    print(x,y,p,q)    \n",
    "    print(x)    \n",
    "    print(y)    \n",
    "    print(p)    \n",
    "    print(q)    "
   ]
  },
  {
   "cell_type": "code",
   "execution_count": 16,
   "metadata": {},
   "outputs": [
    {
     "name": "stdout",
     "output_type": "stream",
     "text": [
      "6 4 () {}\n",
      "6\n",
      "4\n",
      "()\n",
      "{}\n"
     ]
    }
   ],
   "source": [
    "hello()"
   ]
  },
  {
   "cell_type": "code",
   "execution_count": 17,
   "metadata": {},
   "outputs": [
    {
     "name": "stdout",
     "output_type": "stream",
     "text": [
      "1 1 () {}\n",
      "1\n",
      "1\n",
      "()\n",
      "{}\n"
     ]
    }
   ],
   "source": [
    "hello(1,1)\n",
    "hello(1,1)"
   ]
  },
  {
   "cell_type": "code",
   "execution_count": 19,
   "metadata": {},
   "outputs": [
    {
     "name": "stdout",
     "output_type": "stream",
     "text": [
      "1 1 (2, 3, 4, 45, 5, 5, 5) {}\n",
      "1\n",
      "1\n",
      "(2, 3, 4, 45, 5, 5, 5)\n",
      "{}\n"
     ]
    }
   ],
   "source": [
    "hello(1,1,2,3,4,45,5,5,5)"
   ]
  },
  {
   "cell_type": "code",
   "execution_count": 20,
   "metadata": {},
   "outputs": [
    {
     "name": "stdout",
     "output_type": "stream",
     "text": [
      "1 1 () {'m': 5, 'n': 3, 'w': 33}\n",
      "1\n",
      "1\n",
      "()\n",
      "{'m': 5, 'n': 3, 'w': 33}\n"
     ]
    }
   ],
   "source": [
    "hello(1,1,m=5,n=3,w=33)"
   ]
  },
  {
   "cell_type": "code",
   "execution_count": null,
   "metadata": {},
   "outputs": [],
   "source": []
  },
  {
   "cell_type": "code",
   "execution_count": 23,
   "metadata": {},
   "outputs": [
    {
     "name": "stdout",
     "output_type": "stream",
     "text": [
      "2.0\n",
      "work done\n"
     ]
    }
   ],
   "source": [
    "#try and catch\n",
    "\n",
    "try:\n",
    "    a=10\n",
    "    b=5.0\n",
    "    c=a/b\n",
    "    print(c)\n",
    "\n",
    "\n",
    "except ValueError as err:\n",
    "    print(err)    \n",
    "\n",
    "\n",
    "print(\"work done\")    "
   ]
  },
  {
   "cell_type": "code",
   "execution_count": 29,
   "metadata": {},
   "outputs": [
    {
     "name": "stdout",
     "output_type": "stream",
     "text": [
      "division by zero\n",
      "0\n",
      "work done\n"
     ]
    }
   ],
   "source": [
    "#try and catch\n",
    "\n",
    "try:\n",
    "    a=10\n",
    "    b=0\n",
    "    c=a/b\n",
    "    print(c)\n",
    "\n",
    "\n",
    "except ZeroDivisionError as err:\n",
    "    print(err)\n",
    "    print(b)    \n",
    "\n",
    "\n",
    "print(\"work done\")    "
   ]
  },
  {
   "cell_type": "code",
   "execution_count": 34,
   "metadata": {},
   "outputs": [
    {
     "name": "stdout",
     "output_type": "stream",
     "text": [
      "invalid literal for int() with base 10: ''\n",
      "work done\n"
     ]
    }
   ],
   "source": [
    "#try and catch\n",
    "\n",
    "try:\n",
    "    a=10\n",
    "    b=int(input())\n",
    "    c=a/b\n",
    "    print(c)\n",
    "\n",
    "\n",
    "except ZeroDivisionError as err:\n",
    "    print(err)\n",
    "    print(b)    \n",
    "\n",
    "\n",
    "except Exception as err:\n",
    "    print(err)\n",
    "\n",
    "print(\"work done\")    "
   ]
  },
  {
   "cell_type": "code",
   "execution_count": 31,
   "metadata": {},
   "outputs": [
    {
     "name": "stdout",
     "output_type": "stream",
     "text": [
      "4.5000000000000005e-15\n",
      "work done\n"
     ]
    }
   ],
   "source": [
    "#try and catch\n",
    "\n",
    "try:\n",
    "    a=10\n",
    "    b=int(input())\n",
    "    c=a/b\n",
    "    print(c)\n",
    "\n",
    "\n",
    "except ZeroDivisionError as err:\n",
    "    print(err)\n",
    "    print(b)    \n",
    "\n",
    "\n",
    "print(\"work done\")    "
   ]
  },
  {
   "cell_type": "code",
   "execution_count": 36,
   "metadata": {},
   "outputs": [
    {
     "name": "stdout",
     "output_type": "stream",
     "text": [
      "run hoga hi hoga\n"
     ]
    },
    {
     "ename": "ValueError",
     "evalue": "invalid literal for int() with base 10: ''",
     "output_type": "error",
     "traceback": [
      "\u001b[1;31m---------------------------------------------------------------------------\u001b[0m",
      "\u001b[1;31mValueError\u001b[0m                                Traceback (most recent call last)",
      "\u001b[1;32mc:\\Users\\ishuk\\Desktop\\4rd year intership\\collage\\python fundamental\\day5.ipynb Cell 19\u001b[0m in \u001b[0;36m<cell line: 3>\u001b[1;34m()\u001b[0m\n\u001b[0;32m      <a href='vscode-notebook-cell:/c%3A/Users/ishuk/Desktop/4rd%20year%20intership/collage/python%20fundamental/day5.ipynb#X24sZmlsZQ%3D%3D?line=2'>3</a>\u001b[0m \u001b[39mtry\u001b[39;00m:\n\u001b[0;32m      <a href='vscode-notebook-cell:/c%3A/Users/ishuk/Desktop/4rd%20year%20intership/collage/python%20fundamental/day5.ipynb#X24sZmlsZQ%3D%3D?line=3'>4</a>\u001b[0m     a\u001b[39m=\u001b[39m\u001b[39m10\u001b[39m\n\u001b[1;32m----> <a href='vscode-notebook-cell:/c%3A/Users/ishuk/Desktop/4rd%20year%20intership/collage/python%20fundamental/day5.ipynb#X24sZmlsZQ%3D%3D?line=4'>5</a>\u001b[0m     b\u001b[39m=\u001b[39m\u001b[39mint\u001b[39;49m(\u001b[39minput\u001b[39;49m())\n\u001b[0;32m      <a href='vscode-notebook-cell:/c%3A/Users/ishuk/Desktop/4rd%20year%20intership/collage/python%20fundamental/day5.ipynb#X24sZmlsZQ%3D%3D?line=5'>6</a>\u001b[0m     c\u001b[39m=\u001b[39ma\u001b[39m/\u001b[39mb\n\u001b[0;32m      <a href='vscode-notebook-cell:/c%3A/Users/ishuk/Desktop/4rd%20year%20intership/collage/python%20fundamental/day5.ipynb#X24sZmlsZQ%3D%3D?line=6'>7</a>\u001b[0m     \u001b[39mprint\u001b[39m(c)\n",
      "\u001b[1;31mValueError\u001b[0m: invalid literal for int() with base 10: ''"
     ]
    }
   ],
   "source": [
    "#try and catch\n",
    "\n",
    "try:\n",
    "    a=10\n",
    "    b=int(input())\n",
    "    c=a/b\n",
    "    print(c)\n",
    "\n",
    "\n",
    "except ZeroDivisionError as err:\n",
    "    print(err)\n",
    "    print(b)    \n",
    "\n",
    "finally:\n",
    "    print(\"run hoga hi hoga\")\n",
    "print(\"work done\")    "
   ]
  },
  {
   "cell_type": "code",
   "execution_count": 38,
   "metadata": {},
   "outputs": [
    {
     "name": "stdout",
     "output_type": "stream",
     "text": [
      "10\n",
      "20\n",
      "10\n"
     ]
    }
   ],
   "source": [
    "a=10\n",
    "\n",
    "def aa():\n",
    "    a=20\n",
    "    print(a)\n",
    "\n",
    "print(a)    \n",
    "aa()\n",
    "print(a)"
   ]
  },
  {
   "cell_type": "code",
   "execution_count": 40,
   "metadata": {},
   "outputs": [
    {
     "name": "stdout",
     "output_type": "stream",
     "text": [
      "10\n",
      "20\n",
      "20\n"
     ]
    }
   ],
   "source": [
    "a=10\n",
    "\n",
    "def aa():\n",
    "    global a\n",
    "    a=20\n",
    "    print(a)\n",
    "\n",
    "print(a)    \n",
    "aa()\n",
    "print(a)"
   ]
  },
  {
   "cell_type": "code",
   "execution_count": 41,
   "metadata": {},
   "outputs": [],
   "source": [
    "x=aa"
   ]
  },
  {
   "cell_type": "code",
   "execution_count": 42,
   "metadata": {},
   "outputs": [
    {
     "data": {
      "text/plain": [
       "<function __main__.aa()>"
      ]
     },
     "execution_count": 42,
     "metadata": {},
     "output_type": "execute_result"
    }
   ],
   "source": [
    "x"
   ]
  },
  {
   "cell_type": "code",
   "execution_count": 43,
   "metadata": {},
   "outputs": [
    {
     "name": "stdout",
     "output_type": "stream",
     "text": [
      "20\n"
     ]
    }
   ],
   "source": [
    "x()"
   ]
  },
  {
   "cell_type": "code",
   "execution_count": null,
   "metadata": {},
   "outputs": [],
   "source": []
  },
  {
   "cell_type": "code",
   "execution_count": 48,
   "metadata": {},
   "outputs": [],
   "source": [
    "def pop():\n",
    "    print(\"hi\")"
   ]
  },
  {
   "cell_type": "code",
   "execution_count": 46,
   "metadata": {},
   "outputs": [],
   "source": [
    "def qq(f):\n",
    "    f()    "
   ]
  },
  {
   "cell_type": "code",
   "execution_count": 49,
   "metadata": {},
   "outputs": [
    {
     "name": "stdout",
     "output_type": "stream",
     "text": [
      "hi\n"
     ]
    }
   ],
   "source": [
    "qq(pop)"
   ]
  },
  {
   "cell_type": "code",
   "execution_count": null,
   "metadata": {},
   "outputs": [],
   "source": []
  },
  {
   "cell_type": "code",
   "execution_count": 50,
   "metadata": {},
   "outputs": [],
   "source": []
  },
  {
   "cell_type": "code",
   "execution_count": 53,
   "metadata": {},
   "outputs": [],
   "source": []
  },
  {
   "cell_type": "code",
   "execution_count": 62,
   "metadata": {},
   "outputs": [],
   "source": [
    "def aws(f,m,n):\n",
    "    return pop, m+n"
   ]
  },
  {
   "cell_type": "code",
   "execution_count": 63,
   "metadata": {},
   "outputs": [
    {
     "ename": "NameError",
     "evalue": "name 'f' is not defined",
     "output_type": "error",
     "traceback": [
      "\u001b[1;31m---------------------------------------------------------------------------\u001b[0m",
      "\u001b[1;31mNameError\u001b[0m                                 Traceback (most recent call last)",
      "\u001b[1;32mc:\\Users\\ishuk\\Desktop\\4rd year intership\\collage\\python fundamental\\day5.ipynb Cell 33\u001b[0m in \u001b[0;36m<cell line: 1>\u001b[1;34m()\u001b[0m\n\u001b[1;32m----> <a href='vscode-notebook-cell:/c%3A/Users/ishuk/Desktop/4rd%20year%20intership/collage/python%20fundamental/day5.ipynb#X44sZmlsZQ%3D%3D?line=0'>1</a>\u001b[0m p,_ \u001b[39m=\u001b[39m aws(f,\u001b[39m2\u001b[39m,\u001b[39m3\u001b[39m)\n",
      "\u001b[1;31mNameError\u001b[0m: name 'f' is not defined"
     ]
    }
   ],
   "source": [
    "p,_ = aws(f,2,3)"
   ]
  },
  {
   "cell_type": "code",
   "execution_count": 61,
   "metadata": {},
   "outputs": [
    {
     "ename": "TypeError",
     "evalue": "'tuple' object is not callable",
     "output_type": "error",
     "traceback": [
      "\u001b[1;31m---------------------------------------------------------------------------\u001b[0m",
      "\u001b[1;31mTypeError\u001b[0m                                 Traceback (most recent call last)",
      "\u001b[1;32mc:\\Users\\ishuk\\Desktop\\4rd year intership\\collage\\python fundamental\\day5.ipynb Cell 34\u001b[0m in \u001b[0;36m<cell line: 1>\u001b[1;34m()\u001b[0m\n\u001b[1;32m----> <a href='vscode-notebook-cell:/c%3A/Users/ishuk/Desktop/4rd%20year%20intership/collage/python%20fundamental/day5.ipynb#X45sZmlsZQ%3D%3D?line=0'>1</a>\u001b[0m p(())\n",
      "\u001b[1;32mc:\\Users\\ishuk\\Desktop\\4rd year intership\\collage\\python fundamental\\day5.ipynb Cell 34\u001b[0m in \u001b[0;36mpop\u001b[1;34m(f)\u001b[0m\n\u001b[0;32m      <a href='vscode-notebook-cell:/c%3A/Users/ishuk/Desktop/4rd%20year%20intership/collage/python%20fundamental/day5.ipynb#X45sZmlsZQ%3D%3D?line=0'>1</a>\u001b[0m \u001b[39mdef\u001b[39;00m \u001b[39mpop\u001b[39m(f):\n\u001b[1;32m----> <a href='vscode-notebook-cell:/c%3A/Users/ishuk/Desktop/4rd%20year%20intership/collage/python%20fundamental/day5.ipynb#X45sZmlsZQ%3D%3D?line=1'>2</a>\u001b[0m     \u001b[39mreturn\u001b[39;00m f()\n",
      "\u001b[1;31mTypeError\u001b[0m: 'tuple' object is not callable"
     ]
    }
   ],
   "source": [
    "p()"
   ]
  },
  {
   "cell_type": "code",
   "execution_count": null,
   "metadata": {},
   "outputs": [],
   "source": []
  },
  {
   "cell_type": "code",
   "execution_count": 64,
   "metadata": {},
   "outputs": [],
   "source": [
    "#decorator\n",
    "\n",
    "def nayawala(f):\n",
    "    def specail():\n",
    "        print('first line')\n",
    "        f()\n",
    "        print('hello')\n",
    "\n",
    "    return specail"
   ]
  },
  {
   "cell_type": "code",
   "execution_count": 65,
   "metadata": {},
   "outputs": [],
   "source": [
    "@nayawala\n",
    "@nayawala\n",
    "def simple():\n",
    "    print(\"hi\")"
   ]
  },
  {
   "cell_type": "code",
   "execution_count": 66,
   "metadata": {},
   "outputs": [
    {
     "name": "stdout",
     "output_type": "stream",
     "text": [
      "first line\n",
      "first line\n",
      "hi\n",
      "hello\n",
      "hello\n"
     ]
    }
   ],
   "source": [
    "simple()"
   ]
  },
  {
   "cell_type": "code",
   "execution_count": 69,
   "metadata": {},
   "outputs": [],
   "source": [
    "#decorator\n",
    "\n",
    "def nayawala1(f1):\n",
    "    def specail1():\n",
    "        print('2nd ')\n",
    "        f1()\n",
    "        print('2nd')\n",
    "\n",
    "    return specail1"
   ]
  },
  {
   "cell_type": "code",
   "execution_count": 71,
   "metadata": {},
   "outputs": [],
   "source": [
    "@nayawala1\n",
    "@nayawala\n",
    "def simple1():\n",
    "    print(\"hi\")"
   ]
  },
  {
   "cell_type": "code",
   "execution_count": 72,
   "metadata": {},
   "outputs": [
    {
     "name": "stdout",
     "output_type": "stream",
     "text": [
      "2nd \n",
      "first line\n",
      "hi\n",
      "hello\n",
      "2nd\n"
     ]
    }
   ],
   "source": [
    "simple1()"
   ]
  },
  {
   "cell_type": "code",
   "execution_count": null,
   "metadata": {},
   "outputs": [],
   "source": []
  },
  {
   "cell_type": "code",
   "execution_count": 73,
   "metadata": {},
   "outputs": [],
   "source": [
    "#lambda function"
   ]
  },
  {
   "cell_type": "code",
   "execution_count": 74,
   "metadata": {},
   "outputs": [],
   "source": [
    "# lambda ip_args: op_args"
   ]
  },
  {
   "cell_type": "code",
   "execution_count": 75,
   "metadata": {},
   "outputs": [
    {
     "data": {
      "text/plain": [
       "4"
      ]
     },
     "execution_count": 75,
     "metadata": {},
     "output_type": "execute_result"
    }
   ],
   "source": [
    "normal=lambda x,y :x*y\n",
    "normal(2,2)"
   ]
  },
  {
   "cell_type": "code",
   "execution_count": 77,
   "metadata": {},
   "outputs": [
    {
     "name": "stdout",
     "output_type": "stream",
     "text": [
      "[2, 4, 6, 8, 10, 12, 12, 14, 16]\n",
      "['1', '2', '3', '4', '5', '6', '6', '7', '8']\n"
     ]
    }
   ],
   "source": [
    "def my_mapper(fun,values):\n",
    "    result=[]\n",
    "    for value in values:\n",
    "        result += [fun(value)]\n",
    "\n",
    "    return result\n",
    "\n",
    "\n",
    "data =[1,2,3,4,5,6,6,7,8,]\n",
    "\n",
    "print(my_mapper(lambda x:x*2 , data))\n",
    "#print(my_mapper(lambda x:x*2 , data))\n",
    "print(my_mapper(lambda x:str(x) , data))\n"
   ]
  },
  {
   "cell_type": "code",
   "execution_count": null,
   "metadata": {},
   "outputs": [],
   "source": []
  }
 ],
 "metadata": {
  "kernelspec": {
   "display_name": "Python 3",
   "language": "python",
   "name": "python3"
  },
  "language_info": {
   "codemirror_mode": {
    "name": "ipython",
    "version": 3
   },
   "file_extension": ".py",
   "mimetype": "text/x-python",
   "name": "python",
   "nbconvert_exporter": "python",
   "pygments_lexer": "ipython3",
   "version": "3.9.7"
  },
  "orig_nbformat": 4
 },
 "nbformat": 4,
 "nbformat_minor": 2
}
