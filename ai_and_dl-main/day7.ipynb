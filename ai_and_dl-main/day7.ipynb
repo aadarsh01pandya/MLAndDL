{
 "cells": [
  {
   "cell_type": "code",
   "execution_count": 1,
   "metadata": {},
   "outputs": [],
   "source": [
    "#opps"
   ]
  },
  {
   "cell_type": "code",
   "execution_count": 7,
   "metadata": {},
   "outputs": [
    {
     "name": "stdout",
     "output_type": "stream",
     "text": [
      "10 20\n"
     ]
    }
   ],
   "source": [
    "class Abc():\n",
    "    a=10\n",
    "    b=20\n",
    "    def show(self):\n",
    "        print(self.a ,Abc.b)\n",
    "\n",
    "x = Abc()        \n",
    "x.show()"
   ]
  },
  {
   "cell_type": "code",
   "execution_count": 15,
   "metadata": {},
   "outputs": [],
   "source": [
    "y=Abc()\n",
    "z=Abc()\n",
    "\n",
    "\n",
    "x.a=1\n",
    "y.a=2\n",
    "Abc.b=3\n"
   ]
  },
  {
   "cell_type": "code",
   "execution_count": 16,
   "metadata": {},
   "outputs": [
    {
     "name": "stdout",
     "output_type": "stream",
     "text": [
      "1 3\n",
      "2 3\n",
      "3 3\n"
     ]
    }
   ],
   "source": [
    "x.show()\n",
    "y.show()\n",
    "z.show()"
   ]
  },
  {
   "cell_type": "code",
   "execution_count": 10,
   "metadata": {},
   "outputs": [],
   "source": [
    "Abc.b=11"
   ]
  },
  {
   "cell_type": "code",
   "execution_count": 11,
   "metadata": {},
   "outputs": [
    {
     "name": "stdout",
     "output_type": "stream",
     "text": [
      "45 11\n"
     ]
    }
   ],
   "source": [
    "x.show()"
   ]
  },
  {
   "cell_type": "code",
   "execution_count": 37,
   "metadata": {},
   "outputs": [
    {
     "name": "stdout",
     "output_type": "stream",
     "text": [
      "10 20\n",
      "1 20\n",
      "2 20\n",
      "10 30\n",
      "1 30\n",
      "2 30\n",
      "2 30\n"
     ]
    }
   ],
   "source": [
    "class abc():\n",
    "    def __init__(self , a=10,b=20):\n",
    "        self.a=a\n",
    "        abc.b=b\n",
    "\n",
    "    def show(self):\n",
    "        print(self.a,abc.b)\n",
    "\n",
    "x=abc()\n",
    "y=abc(a=1)\n",
    "z=abc(a=2)\n",
    "x.show();y.show();z.show()\n",
    "\n",
    "w=abc(b=30)\n",
    "x.show();y.show();z.show();z.show()\n",
    "\n"
   ]
  },
  {
   "cell_type": "code",
   "execution_count": 27,
   "metadata": {},
   "outputs": [
    {
     "name": "stdout",
     "output_type": "stream",
     "text": [
      "hi\n",
      "15\n",
      "10 20\n"
     ]
    }
   ],
   "source": [
    "from typing import Any\n",
    "\n",
    "\n",
    "class abc():\n",
    "    def __init__(self , a=10,b=20):\n",
    "        self.a=a\n",
    "        abc.b=b\n",
    "\n",
    "    def __str__(self) -> str:\n",
    "        return \"hi\"\n",
    "    \n",
    "    def __call__(self, *args: Any, **kwds: Any) -> Any:\n",
    "        return sum(args)\n",
    "\n",
    "    def show(self):\n",
    "        print(self.a,abc.b)\n",
    "\n",
    "\n",
    "x=abc()        \n",
    "print(x)\n",
    "print(x(1,2,3,4,5))\n",
    "x.show()"
   ]
  },
  {
   "cell_type": "code",
   "execution_count": 29,
   "metadata": {},
   "outputs": [
    {
     "name": "stdout",
     "output_type": "stream",
     "text": [
      "10 20\n",
      "hello\n"
     ]
    }
   ],
   "source": [
    "class pqr(abc):\n",
    "    def ishu(self):\n",
    "        print(\"hello\")\n",
    "\n",
    "p=pqr()   \n",
    "\n",
    "p.show()\n",
    "p.ishu()\n"
   ]
  },
  {
   "cell_type": "code",
   "execution_count": 30,
   "metadata": {},
   "outputs": [
    {
     "data": {
      "text/plain": [
       "15"
      ]
     },
     "execution_count": 30,
     "metadata": {},
     "output_type": "execute_result"
    }
   ],
   "source": [
    "p(1,2,3,4,5)"
   ]
  },
  {
   "cell_type": "code",
   "execution_count": 31,
   "metadata": {},
   "outputs": [
    {
     "name": "stdout",
     "output_type": "stream",
     "text": [
      "hi\n"
     ]
    }
   ],
   "source": [
    "print(p)"
   ]
  },
  {
   "cell_type": "code",
   "execution_count": 32,
   "metadata": {},
   "outputs": [
    {
     "name": "stdout",
     "output_type": "stream",
     "text": [
      "30 200\n",
      "hello\n"
     ]
    }
   ],
   "source": [
    "class pqr(abc):\n",
    "    def __init__(self, a=100, b=200):\n",
    "        super().__init__(a, b)\n",
    "\n",
    "\n",
    "    def ishu(self):\n",
    "        print(\"hello\")\n",
    "\n",
    "p=pqr(a=30)   \n",
    "\n",
    "p.show()\n",
    "p.ishu()\n"
   ]
  },
  {
   "cell_type": "code",
   "execution_count": null,
   "metadata": {},
   "outputs": [],
   "source": []
  },
  {
   "cell_type": "code",
   "execution_count": 33,
   "metadata": {},
   "outputs": [],
   "source": [
    "##ugi\n",
    "\n",
    "#libary\n",
    "#kinter"
   ]
  },
  {
   "cell_type": "code",
   "execution_count": 57,
   "metadata": {},
   "outputs": [],
   "source": [
    "import tkinter as ktr\n",
    "\n",
    "app=ktr.Tk(__name__)\n",
    "app.geometry('400x400')\n",
    "app.title('My first site')\n",
    "\n",
    "#main code is hear\n",
    "\n",
    "var1=ktr.Variable()\n",
    "var1.set(\"inital value\")\n",
    "\n",
    "a=ktr.Label(app,textvariable=var1)\n",
    "a.grid(row=2,column=1)\n",
    "#a.pack()\n",
    "\n",
    "var2=ktr.Variable()\n",
    "ktr.Entry(app,textvariable=var2).grid(row=3,column=3)\n",
    "\n",
    "def putText():\n",
    "    var1.set(var2.get())\n",
    "\n",
    "ktr.Button(app,text=\"Button\" , command=putText).grid(row=3,column=1)\n",
    "\n",
    "b=ktr.Label(app,text=\"2st\")\n",
    "b.grid(row=4,column=1)\n",
    "\n",
    "\n",
    "# end the main code and run the main code\n",
    "app.mainloop()"
   ]
  },
  {
   "cell_type": "code",
   "execution_count": 62,
   "metadata": {},
   "outputs": [],
   "source": [
    "import tkinter as ktr\n",
    "\n",
    "app=ktr.Tk(__name__)\n",
    "app.geometry('400x400')\n",
    "app.title('My first site')\n",
    "\n",
    "#main code is hear\n",
    "\n",
    "var1=ktr.Variable()\n",
    "var1.set(\" \")\n",
    "\n",
    "b=ktr.Label(app,text=\"enter the text\")\n",
    "b.grid(row=1,column=1)\n",
    "\n",
    "\n",
    "var2=ktr.Variable()\n",
    "ktr.Entry(app,textvariable=var2).grid(row=2,column=1)\n",
    "\n",
    "def putText():\n",
    "    var1.set(var2.get())\n",
    "\n",
    "ktr.Button(app,text=\"Button\" , command=putText).grid(row=3,column=1)\n",
    "\n",
    "\n",
    "ktr.Label(app,textvariable=var1).grid(row=4,column=1)\n",
    "\n",
    "#a.pack()\n",
    "\n",
    "\n",
    "\n",
    "\n",
    "\n",
    "\n",
    "# end the main code and run the main code\n",
    "app.mainloop()"
   ]
  },
  {
   "cell_type": "code",
   "execution_count": null,
   "metadata": {},
   "outputs": [],
   "source": []
  }
 ],
 "metadata": {
  "kernelspec": {
   "display_name": "Python 3",
   "language": "python",
   "name": "python3"
  },
  "language_info": {
   "codemirror_mode": {
    "name": "ipython",
    "version": 3
   },
   "file_extension": ".py",
   "mimetype": "text/x-python",
   "name": "python",
   "nbconvert_exporter": "python",
   "pygments_lexer": "ipython3",
   "version": "3.9.7"
  },
  "orig_nbformat": 4
 },
 "nbformat": 4,
 "nbformat_minor": 2
}
