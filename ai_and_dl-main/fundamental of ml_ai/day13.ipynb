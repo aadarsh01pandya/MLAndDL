{
 "cells": [
  {
   "cell_type": "code",
   "execution_count": 3,
   "metadata": {},
   "outputs": [],
   "source": [
    "# #live image capturing\n",
    "# import cv2\n",
    "# vid=cv2.VideoCapture(0)\n",
    "# while True:\n",
    "#     ack,img=vid.read()\n",
    "#     if ack:\n",
    "#         #do the entire processing\n",
    "#         cv2.imshow('preview',img)  #depends on requirement\n",
    "#         key=cv2.waitKey(1)\n",
    "#         if key==ord('x'):\n",
    "#             break\n",
    "# cv2.destroyAllWindows();  cv2.waitKey(1)\n",
    "# vid.release()"
   ]
  },
  {
   "cell_type": "markdown",
   "metadata": {},
   "source": [
    "#color dection"
   ]
  },
  {
   "cell_type": "code",
   "execution_count": 24,
   "metadata": {},
   "outputs": [],
   "source": [
    "#live image capturing\n",
    "import cv2\n",
    "import skimage as ski\n",
    "vid=cv2.VideoCapture(0)\n",
    "while True:\n",
    "    ack,img=vid.read()\n",
    "    if ack:\n",
    "        th,red_bw=cv2.threshold(cv2.subtract(\n",
    "            img[:,:,-1],cv2.cvtColor(img,cv2.COLOR_BGR2GRAY)\n",
    "        ),80,255,cv2.THRESH_BINARY)\n",
    "\n",
    "       #noise removal\n",
    "        strel = cv2.getStructuringElement(cv2.MORPH_RECT, (10,10))\n",
    "        red_bw = cv2.morphologyEx(red_bw, cv2.MORPH_CLOSE, strel, iterations=1)\n",
    "\n",
    "       #noise removal\n",
    "        red_bw=ski.morphology.remove_small_objects(red_bw.astype(bool) , 3000) .astype('uint8')*255\n",
    "\n",
    "        red_bw=ski.morphology.remove_small_holes(red_bw.astype(bool) , 3000) .astype('uint8')*255\n",
    "\n",
    "        rps = ski.measure.regionprops(ski.measure.label(red_bw.astype('uint8')))\n",
    "\n",
    "        count=len(rps)\n",
    "\n",
    "        img_copy=img.copy()\n",
    "\n",
    "        #count ka leya\n",
    "        cv2.putText(img_copy,str(count),(30,30),cv2.FONT_HERSHEY_PLAIN, 5 ,(255,255,255) ,5)\n",
    "\n",
    "        for rp in rps:\n",
    "            y1,x1,y2,x2=rp.bbox\n",
    "\n",
    "            cv2.rectangle(img_copy,(x1,y1),(x2,y2), (255,0,0),thickness=5)\n",
    "\n",
    "\n",
    "\n",
    "\n",
    "        cv2.imshow('preview',img_copy)  #depends on requirement\n",
    "        key=cv2.waitKey(1)\n",
    "        if key==ord('q'):\n",
    "            break\n",
    "cv2.destroyAllWindows();  cv2.waitKey(1)\n",
    "vid.release()"
   ]
  },
  {
   "cell_type": "code",
   "execution_count": null,
   "metadata": {},
   "outputs": [],
   "source": []
  }
 ],
 "metadata": {
  "kernelspec": {
   "display_name": "Python 3",
   "language": "python",
   "name": "python3"
  },
  "language_info": {
   "codemirror_mode": {
    "name": "ipython",
    "version": 3
   },
   "file_extension": ".py",
   "mimetype": "text/x-python",
   "name": "python",
   "nbconvert_exporter": "python",
   "pygments_lexer": "ipython3",
   "version": "3.9.7"
  },
  "orig_nbformat": 4
 },
 "nbformat": 4,
 "nbformat_minor": 2
}
