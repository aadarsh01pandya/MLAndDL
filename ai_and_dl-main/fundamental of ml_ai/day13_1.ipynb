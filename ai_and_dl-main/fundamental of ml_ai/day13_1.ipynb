{
 "cells": [
  {
   "cell_type": "markdown",
   "metadata": {},
   "source": [
    "#Face dection\n"
   ]
  },
  {
   "cell_type": "code",
   "execution_count": 6,
   "metadata": {},
   "outputs": [],
   "source": [
    "#Face dection -> viola-jones algo (haarcascade features)\n",
    "import cv2\n",
    "fd=cv2.CascadeClassifier(\n",
    "    cv2.data.haarcascades + 'haarcascade_frontalface_default.xml'\n",
    ")\n",
    "vid=cv2.VideoCapture(0)\n",
    "while True:\n",
    "    ack,img=vid.read()\n",
    "    if ack:\n",
    "        #do the entire processing\n",
    "        faces=fd.detectMultiScale(img ,1.2,2)\n",
    "        # coordinate return in x,y,w,h\n",
    "        for x,y,w,h in faces:\n",
    "            cv2.rectangle(img,(x,y),(x+w,y+h),(255,255,255),10)\n",
    "\n",
    "\n",
    "\n",
    "        cv2.imshow('preview',img)  #depends on requirement\n",
    "        key=cv2.waitKey(1)\n",
    "        if key==ord('q'):\n",
    "            break\n",
    "cv2.destroyAllWindows();  cv2.waitKey(1)\n",
    "vid.release()"
   ]
  },
  {
   "cell_type": "code",
   "execution_count": 14,
   "metadata": {},
   "outputs": [],
   "source": [
    "#Face dection and saved\n",
    "import cv2\n",
    "fd=cv2.CascadeClassifier(\n",
    "    cv2.data.haarcascades + 'haarcascade_frontalface_default.xml'\n",
    ")\n",
    "vid=cv2.VideoCapture(0)\n",
    "counter=0\n",
    "\n",
    "while True:\n",
    "    ack,img=vid.read()\n",
    "    if ack:\n",
    "        #do the entire processing\n",
    "        faces=fd.detectMultiScale(img ,1.2,2)\n",
    "\n",
    "        if len(faces) ==1:\n",
    "            counter+=1\n",
    "           \n",
    "        # coordinate return in x,y,w,h\n",
    "            for x,y,w,h in faces:\n",
    "                cv2.rectangle(img,(x,y),(x+w,y+h),(255,255,255),10)\n",
    "            #crope\n",
    "            face_img =img[y:y+h,x:x+w,:].copy()\n",
    "            cv2.imwrite(r'face_image_13_1/face_{0}.png'.format(counter),face_img)\n",
    "\n",
    "        cv2.imshow('preview',img)  #depends on requirement\n",
    "        key=cv2.waitKey(1)\n",
    "        if key==ord('q'):\n",
    "            break\n",
    "cv2.destroyAllWindows();  cv2.waitKey(1)\n",
    "vid.release()"
   ]
  },
  {
   "cell_type": "code",
   "execution_count": null,
   "metadata": {},
   "outputs": [],
   "source": [
    "#face underscor _libary downlod kar lo\n",
    "\n",
    "#d libe for face "
   ]
  }
 ],
 "metadata": {
  "kernelspec": {
   "display_name": "Python 3",
   "language": "python",
   "name": "python3"
  },
  "language_info": {
   "codemirror_mode": {
    "name": "ipython",
    "version": 3
   },
   "file_extension": ".py",
   "mimetype": "text/x-python",
   "name": "python",
   "nbconvert_exporter": "python",
   "pygments_lexer": "ipython3",
   "version": "3.9.7"
  },
  "orig_nbformat": 4
 },
 "nbformat": 4,
 "nbformat_minor": 2
}
