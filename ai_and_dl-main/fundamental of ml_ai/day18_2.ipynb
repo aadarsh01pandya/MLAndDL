{
 "cells": [
  {
   "cell_type": "code",
   "execution_count": 1,
   "metadata": {},
   "outputs": [],
   "source": [
    "#Rule based chat bot"
   ]
  },
  {
   "cell_type": "code",
   "execution_count": 2,
   "metadata": {},
   "outputs": [],
   "source": [
    "import speech_recognition as sr\n",
    "import nltk\n",
    "import pyttsx3\n",
    "import cv2"
   ]
  },
  {
   "cell_type": "code",
   "execution_count": 3,
   "metadata": {},
   "outputs": [],
   "source": [
    "from nltk.chat.util import Chat"
   ]
  },
  {
   "cell_type": "code",
   "execution_count": null,
   "metadata": {},
   "outputs": [],
   "source": [
    "\"\"\"\n",
    "\n",
    "ex\n",
    "q1=['hell]\n",
    "a1=['hey']\n",
    "\n",
    "qa_pairs=[q1,a1]\n",
    "\n",
    "\"\"\""
   ]
  },
  {
   "cell_type": "code",
   "execution_count": null,
   "metadata": {},
   "outputs": [],
   "source": [
    "#ex show"
   ]
  },
  {
   "cell_type": "markdown",
   "metadata": {},
   "source": [
    "()     capture & group\n",
    ".      any character (except new line)\n",
    "*      zero or more accurance \n",
    "(.*)   kuch ve aa sakata ha"
   ]
  },
  {
   "cell_type": "code",
   "execution_count": 4,
   "metadata": {},
   "outputs": [],
   "source": [
    "qa_pairs = [    [ 'what is your owner name' ,                               ['Ishu'] ]  ,\n",
    "                [ '(.*)name' ,                                              [ 'Ishu kumar' ] ]  ,           \n",
    "                [ 'what is your favourate colour' ,                         ['Black'] ]  ,\n",
    "                [ 'what is your age'              ,                         [ '18' ] ]                     ,\n",
    "                [ 'what is your favourate book'    ,                        ['Gita'] ]        ,\n",
    "                [ 'what is your favourate food' ,                           [ 'Chiken' ] ]      ,                                      \n",
    "                [ 'what is your creater' ,                                  [ 'Ishu kumar' ] ]       ,       \n",
    "                [ 'what is the favourate colour of your owner' ,            ['black'] ]    ,            \n",
    "                [ '(hi|HI|Hi|hey|HEY|Hey|HELLO|Hello|hello)',               [' \\t Hello 👋 \\n  How can i help u'  ,  '👋 '] ] ,            \n",
    "                [ '(.*)(location|city|address|place|Place) ?',              ['JAIPUR ']   ]   ,\n",
    "                [ '(.*)contact(.*)' ,                                       ['call - xxxx for more information ℹ '] ]   ,\n",
    "                [  '(.*)weather(.*)' ,                                      ['it cool 😎 ']    ] ,\n",
    "                [ '(.*)',                                                   ['Sorry pleas enter again']  ]\n",
    "                \n",
    "            ]\n",
    "cb = Chat(qa_pairs)"
   ]
  },
  {
   "cell_type": "code",
   "execution_count": 5,
   "metadata": {},
   "outputs": [
    {
     "name": "stdout",
     "output_type": "stream",
     "text": [
      " \t Hello 👋 \n",
      "  How can i help u\n"
     ]
    }
   ],
   "source": [
    "ques=input('enter')\n",
    "response= cb.respond(ques)\n",
    "print(response)"
   ]
  },
  {
   "cell_type": "code",
   "execution_count": 6,
   "metadata": {},
   "outputs": [],
   "source": [
    "# full project for day 18 to mixed with chatbot and respond ai "
   ]
  },
  {
   "cell_type": "code",
   "execution_count": 9,
   "metadata": {},
   "outputs": [
    {
     "name": "stdout",
     "output_type": "stream",
     "text": [
      "speak\n",
      "\n",
      "speak\n",
      "speak\n",
      "speak\n",
      "\n",
      "speak\n",
      "speak\n",
      "\n",
      "speak\n",
      "speak\n",
      "speak\n",
      "speak\n"
     ]
    }
   ],
   "source": [
    "import speech_recognition as sr\n",
    "import nltk\n",
    "import pyttsx3\n",
    "import cv2\n",
    "from nltk.chat.util import Chat\n",
    "import webbrowser as web\n",
    "\n",
    "\n",
    "qa_pairs = [    [ 'what is your owner name' ,                               ['Ishu'] ]  ,\n",
    "                [ '(.*)name' ,                                              [ 'Ishu kumar' ] ]  ,           \n",
    "                [ 'what is your favourate colour' ,                         ['Black'] ]  ,\n",
    "                [ 'what is your age'              ,                         [ '18' ] ]                     ,\n",
    "                [ 'what is your favourate book'    ,                        ['Gita'] ]        ,\n",
    "                [ 'what is your favourate food' ,                           [ 'Chiken' ] ]      ,                                      \n",
    "                [ 'what is your creater' ,                                  [ 'Ishu kumar' ] ]       ,       \n",
    "                [ 'what is the favourate colour of your owner' ,            ['black'] ]    ,            \n",
    "                [ '(hi|HI|Hi|hey|HEY|Hey|HELLO|Hello|hello)',               [' \\t Hello 👋 \\n  How can i help u'  ,  '👋 '] ] ,            \n",
    "                [ '(.*)(location|city|address|place|Place) ?',              ['JAIPUR ']   ]   ,\n",
    "                [ '(.*)contact(.*)' ,                                       ['call - xxxx for more information ℹ '] ]   ,\n",
    "                [  '(.*)weather(.*)' ,                                      ['it cool 😎 ']    ] ,\n",
    "                [ '(.*)',                                                   ['Sorry pleas enter again']  ]\n",
    "                \n",
    "            ]\n",
    "cb = Chat(qa_pairs)\n",
    "\n",
    "tts=pyttsx3.init()\n",
    "\n",
    "rec=sr.Recognizer()\n",
    "\n",
    "\n",
    "\n",
    "flag=False\n",
    "while True:\n",
    "    with sr.Microphone() as mic:\n",
    "        print(\"speak\")\n",
    "        audio =rec.listen(mic, phrase_time_limit=3,timeout=5)\n",
    "        try:\n",
    "            text=rec.recognize_google(audio).lower()\n",
    "            if flag==True:\n",
    "                if 'search' in text:\n",
    "                    item=text.split('search')[-1].strip()\n",
    "                    flipkart='https://flipkart.com/search?q='\n",
    "                    YouTube='https:youtube.com/'\n",
    "                    web.open_new(flipkart+item)\n",
    "                    web.open_new_tab(YouTube+item)\n",
    "                flag =False\n",
    "            else:\n",
    "                response=cb.respond(text)\n",
    "                if response==None:\n",
    "                    tts.say('Sorry , i dont know')\n",
    "                else:\n",
    "                    tts.say(response)\n",
    "                tts.runAndWait()\n",
    "\n",
    "            if 'google' in text:\n",
    "                flag = True\n",
    "            elif 'break' in text:\n",
    "                break\n",
    "            #tts.say(text)\n",
    "            #tts.runAndWait()\n",
    "        except Exception as err:\n",
    "            print(err)\n"
   ]
  },
  {
   "cell_type": "code",
   "execution_count": null,
   "metadata": {},
   "outputs": [],
   "source": []
  }
 ],
 "metadata": {
  "kernelspec": {
   "display_name": "Python 3",
   "language": "python",
   "name": "python3"
  },
  "language_info": {
   "codemirror_mode": {
    "name": "ipython",
    "version": 3
   },
   "file_extension": ".py",
   "mimetype": "text/x-python",
   "name": "python",
   "nbconvert_exporter": "python",
   "pygments_lexer": "ipython3",
   "version": "3.9.7"
  },
  "orig_nbformat": 4
 },
 "nbformat": 4,
 "nbformat_minor": 2
}
