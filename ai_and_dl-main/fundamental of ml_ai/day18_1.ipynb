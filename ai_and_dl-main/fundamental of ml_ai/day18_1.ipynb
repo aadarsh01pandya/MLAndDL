{
 "cells": [
  {
   "cell_type": "code",
   "execution_count": null,
   "metadata": {},
   "outputs": [],
   "source": [
    "# rule based chat boat"
   ]
  },
  {
   "cell_type": "code",
   "execution_count": 2,
   "metadata": {},
   "outputs": [],
   "source": [
    "import speech_recognition as sr\n",
    "import nltk\n",
    "import pyttsx3\n",
    "import cv2"
   ]
  },
  {
   "cell_type": "code",
   "execution_count": 3,
   "metadata": {},
   "outputs": [],
   "source": [
    "tts=pyttsx3.init()\n",
    "tts.setProperty('rate',60)  # slow speed ma bola ga"
   ]
  },
  {
   "cell_type": "code",
   "execution_count": null,
   "metadata": {},
   "outputs": [],
   "source": [
    "tts.say(\"ram siya ram ram jai jai ram , ram siya ram ram jai jai ram\")\n",
    "tts.runAndWait()"
   ]
  },
  {
   "cell_type": "code",
   "execution_count": null,
   "metadata": {},
   "outputs": [],
   "source": [
    "#normal coding function or seak and say"
   ]
  },
  {
   "cell_type": "code",
   "execution_count": null,
   "metadata": {},
   "outputs": [],
   "source": [
    "rec=sr.Recognizer()\n",
    "with sr.Microphone() as mic:\n",
    "    audio =rec.listen(mic)\n",
    "    try:\n",
    "        text=rec.recognize_google(audio)\n",
    "        tts.say(text)\n",
    "        tts.runAndWait()\n",
    "    except Exception as err:\n",
    "        print(err)"
   ]
  },
  {
   "cell_type": "code",
   "execution_count": null,
   "metadata": {},
   "outputs": [],
   "source": [
    "#  search kar raha ha"
   ]
  },
  {
   "cell_type": "code",
   "execution_count": 8,
   "metadata": {},
   "outputs": [
    {
     "name": "stdout",
     "output_type": "stream",
     "text": [
      "speak\n",
      "speak\n",
      "speak\n",
      "speak\n",
      "\n",
      "speak\n",
      "speak\n",
      "\n",
      "speak\n",
      "\n",
      "speak\n"
     ]
    }
   ],
   "source": [
    "import webbrowser as web\n",
    "rec=sr.Recognizer()\n",
    "flag=False\n",
    "while True:\n",
    "    with sr.Microphone() as mic:\n",
    "        print(\"speak\")\n",
    "        audio =rec.listen(mic, phrase_time_limit=3,timeout=5)\n",
    "        try:\n",
    "            text=rec.recognize_google(audio).lower()\n",
    "            if flag==True:\n",
    "                if 'search' in text:\n",
    "                    item=text.split('search')[-1].strip()\n",
    "                    flipkart='https://flipkart.com/search?q='\n",
    "                    YouTube='https:youtube.com/'\n",
    "                    web.open_new(flipkart+item)\n",
    "                    web.open_new_tab(YouTube+item)\n",
    "                flag =False\n",
    "\n",
    "            if 'google' in text:\n",
    "                flag = True\n",
    "            elif 'break' in text:\n",
    "                break\n",
    "            #tts.say(text)\n",
    "            #tts.runAndWait()\n",
    "        except Exception as err:\n",
    "            print(err)"
   ]
  },
  {
   "cell_type": "code",
   "execution_count": 9,
   "metadata": {},
   "outputs": [
    {
     "name": "stdout",
     "output_type": "stream",
     "text": [
      "speak\n",
      "speak\n",
      "\n",
      "speak\n",
      "speak\n",
      "speak\n",
      "\n",
      "speak\n",
      "\n",
      "speak\n",
      "\n",
      "speak\n"
     ]
    },
    {
     "ename": "KeyboardInterrupt",
     "evalue": "",
     "output_type": "error",
     "traceback": [
      "\u001b[1;31m---------------------------------------------------------------------------\u001b[0m",
      "\u001b[1;31mKeyboardInterrupt\u001b[0m                         Traceback (most recent call last)",
      "\u001b[1;32mc:\\Users\\ishuk\\Desktop\\4rd year intership\\collage\\python fundamental\\fundamental of ml_ai\\day18_1.ipynb Cell 9\u001b[0m in \u001b[0;36m<cell line: 5>\u001b[1;34m()\u001b[0m\n\u001b[0;32m      <a href='vscode-notebook-cell:/c%3A/Users/ishuk/Desktop/4rd%20year%20intership/collage/python%20fundamental/fundamental%20of%20ml_ai/day18_1.ipynb#X11sZmlsZQ%3D%3D?line=4'>5</a>\u001b[0m \u001b[39mwith\u001b[39;00m sr\u001b[39m.\u001b[39mMicrophone() \u001b[39mas\u001b[39;00m mic:\n\u001b[0;32m      <a href='vscode-notebook-cell:/c%3A/Users/ishuk/Desktop/4rd%20year%20intership/collage/python%20fundamental/fundamental%20of%20ml_ai/day18_1.ipynb#X11sZmlsZQ%3D%3D?line=5'>6</a>\u001b[0m     \u001b[39mprint\u001b[39m(\u001b[39m\"\u001b[39m\u001b[39mspeak\u001b[39m\u001b[39m\"\u001b[39m)\n\u001b[1;32m----> <a href='vscode-notebook-cell:/c%3A/Users/ishuk/Desktop/4rd%20year%20intership/collage/python%20fundamental/fundamental%20of%20ml_ai/day18_1.ipynb#X11sZmlsZQ%3D%3D?line=6'>7</a>\u001b[0m     audio \u001b[39m=\u001b[39mrec\u001b[39m.\u001b[39;49mlisten(mic, phrase_time_limit\u001b[39m=\u001b[39;49m\u001b[39m3\u001b[39;49m,timeout\u001b[39m=\u001b[39;49m\u001b[39m5\u001b[39;49m)\n\u001b[0;32m      <a href='vscode-notebook-cell:/c%3A/Users/ishuk/Desktop/4rd%20year%20intership/collage/python%20fundamental/fundamental%20of%20ml_ai/day18_1.ipynb#X11sZmlsZQ%3D%3D?line=7'>8</a>\u001b[0m     \u001b[39mtry\u001b[39;00m:\n\u001b[0;32m      <a href='vscode-notebook-cell:/c%3A/Users/ishuk/Desktop/4rd%20year%20intership/collage/python%20fundamental/fundamental%20of%20ml_ai/day18_1.ipynb#X11sZmlsZQ%3D%3D?line=8'>9</a>\u001b[0m         text\u001b[39m=\u001b[39mrec\u001b[39m.\u001b[39mrecognize_google(audio)\u001b[39m.\u001b[39mlower()\n",
      "File \u001b[1;32m~\\AppData\\Roaming\\Python\\Python39\\site-packages\\speech_recognition\\__init__.py:652\u001b[0m, in \u001b[0;36mRecognizer.listen\u001b[1;34m(self, source, timeout, phrase_time_limit, snowboy_configuration)\u001b[0m\n\u001b[0;32m    649\u001b[0m \u001b[39mif\u001b[39;00m phrase_time_limit \u001b[39mand\u001b[39;00m elapsed_time \u001b[39m-\u001b[39m phrase_start_time \u001b[39m>\u001b[39m phrase_time_limit:\n\u001b[0;32m    650\u001b[0m     \u001b[39mbreak\u001b[39;00m\n\u001b[1;32m--> 652\u001b[0m buffer \u001b[39m=\u001b[39m source\u001b[39m.\u001b[39;49mstream\u001b[39m.\u001b[39;49mread(source\u001b[39m.\u001b[39;49mCHUNK)\n\u001b[0;32m    653\u001b[0m \u001b[39mif\u001b[39;00m \u001b[39mlen\u001b[39m(buffer) \u001b[39m==\u001b[39m \u001b[39m0\u001b[39m: \u001b[39mbreak\u001b[39;00m  \u001b[39m# reached end of the stream\u001b[39;00m\n\u001b[0;32m    654\u001b[0m frames\u001b[39m.\u001b[39mappend(buffer)\n",
      "File \u001b[1;32m~\\AppData\\Roaming\\Python\\Python39\\site-packages\\speech_recognition\\__init__.py:161\u001b[0m, in \u001b[0;36mMicrophone.MicrophoneStream.read\u001b[1;34m(self, size)\u001b[0m\n\u001b[0;32m    160\u001b[0m \u001b[39mdef\u001b[39;00m \u001b[39mread\u001b[39m(\u001b[39mself\u001b[39m, size):\n\u001b[1;32m--> 161\u001b[0m     \u001b[39mreturn\u001b[39;00m \u001b[39mself\u001b[39;49m\u001b[39m.\u001b[39;49mpyaudio_stream\u001b[39m.\u001b[39;49mread(size, exception_on_overflow\u001b[39m=\u001b[39;49m\u001b[39mFalse\u001b[39;49;00m)\n",
      "File \u001b[1;32m~\\AppData\\Roaming\\Python\\Python39\\site-packages\\pyaudio.py:612\u001b[0m, in \u001b[0;36mStream.read\u001b[1;34m(self, num_frames, exception_on_overflow)\u001b[0m\n\u001b[0;32m    608\u001b[0m \u001b[39mif\u001b[39;00m \u001b[39mnot\u001b[39;00m \u001b[39mself\u001b[39m\u001b[39m.\u001b[39m_is_input:\n\u001b[0;32m    609\u001b[0m     \u001b[39mraise\u001b[39;00m \u001b[39mIOError\u001b[39;00m(\u001b[39m\"\u001b[39m\u001b[39mNot input stream\u001b[39m\u001b[39m\"\u001b[39m,\n\u001b[0;32m    610\u001b[0m                   paCanNotReadFromAnOutputOnlyStream)\n\u001b[1;32m--> 612\u001b[0m \u001b[39mreturn\u001b[39;00m pa\u001b[39m.\u001b[39;49mread_stream(\u001b[39mself\u001b[39;49m\u001b[39m.\u001b[39;49m_stream, num_frames, exception_on_overflow)\n",
      "\u001b[1;31mKeyboardInterrupt\u001b[0m: "
     ]
    }
   ],
   "source": [
    "#same code ha\n",
    "\n",
    "import webbrowser as web\n",
    "rec=sr.Recognizer()\n",
    "flag=False\n",
    "while True:\n",
    "    with sr.Microphone() as mic:\n",
    "        print(\"speak\")\n",
    "        audio =rec.listen(mic, phrase_time_limit=3,timeout=5)\n",
    "        try:\n",
    "            text=rec.recognize_google(audio).lower()\n",
    "            if flag==True:\n",
    "                if 'search' in text:\n",
    "                    item=text.split('search')[-1].strip()\n",
    "                    flipkart='https://flipkart.com/search?q='\n",
    "                    YouTube='https:youtube.com/'\n",
    "                    web.open_new(flipkart+item)\n",
    "                    web.open_new_tab(YouTube+item)\n",
    "                flag =False\n",
    "\n",
    "            if 'khul ja sim sim' in text:\n",
    "                flag = True\n",
    "            elif 'break' in text:\n",
    "                break\n",
    "            #tts.say(text)\n",
    "            #tts.runAndWait()\n",
    "        except Exception as err:\n",
    "            print(err)"
   ]
  },
  {
   "cell_type": "code",
   "execution_count": null,
   "metadata": {},
   "outputs": [],
   "source": []
  }
 ],
 "metadata": {
  "kernelspec": {
   "display_name": "Python 3",
   "language": "python",
   "name": "python3"
  },
  "language_info": {
   "codemirror_mode": {
    "name": "ipython",
    "version": 3
   },
   "file_extension": ".py",
   "mimetype": "text/x-python",
   "name": "python",
   "nbconvert_exporter": "python",
   "pygments_lexer": "ipython3",
   "version": "3.9.7"
  },
  "orig_nbformat": 4
 },
 "nbformat": 4,
 "nbformat_minor": 2
}
